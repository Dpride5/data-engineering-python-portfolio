{
 "cells": [
  {
   "cell_type": "code",
   "execution_count": null,
   "id": "a9bc5635",
   "metadata": {},
   "outputs": [],
   "source": [
    "# From the employee table - Find the 2nd highest salary among employees (SQL Code Conversion)\n",
    "import pandas as pd\n",
    "\n",
    "# Read in the file\n",
    "df = print('Theoretical Df Here Lol')\n",
    "\n",
    "# 1) Sort by department and descending salary\n",
    "df_sorted = df.sort_values(['department_id', 'salary'], ascending=[True, False])\n",
    "\n",
    "# 2) Give each row a 1-based counter *within* its department (Emulating ROW_NUMBER() in SQL)\n",
    "df_sorted['row_number'] = (\n",
    "    df_sorted.\n",
    "        groupby('department_id')\n",
    "        .cumcount()                 # Starts at 0\n",
    "        .add(1)                     # make it start at 1 like SQL\n",
    ")\n",
    "\n",
    "# 3) Filter to row_number == 2 (second highest in each dept)\n",
    "second_highest = df_sorted[df_sorted['row_number'] == 2]\n",
    "\n",
    "# 4) If I just want the salary values, pick the columns\n",
    "result = second_highest[['department_id', 'salary']]\n",
    "print(result)"
   ]
  }
 ],
 "metadata": {
  "language_info": {
   "name": "python"
  }
 },
 "nbformat": 4,
 "nbformat_minor": 5
}
