{
 "cells": [
  {
   "cell_type": "code",
   "execution_count": null,
   "id": "5748f69f",
   "metadata": {},
   "outputs": [],
   "source": [
    "import pandas as pd\n",
    "\n",
    "# First load & Inspect\n",
    "raw = pd.read_csv('../data/timesheet.csv', parse_dates=['Date'])\n",
    "raw.info()\n",
    "raw.head()"
   ]
  },
  {
   "cell_type": "code",
   "execution_count": null,
   "id": "6905044c",
   "metadata": {},
   "outputs": [],
   "source": [
    "# Defining a function to parse the hours by splitting up the string object\n",
    "def parse_hours(hstr):\n",
    "    \"\"\"Convert strings from '8 h 44 m' -> 8.73333 hours (8 + 44/60).\n",
    "    Handles '11 h 0 m' etc.\n",
    "    \"\"\"\n",
    "    if pd.isna(hstr):\n",
    "        return pd.NA\n",
    "    parts = hstr.strip().split()\n",
    "    hours = int(parts[0])\n",
    "    minutes = int(parts[2])\n",
    "    return hours + minutes / 60\n",
    "\n",
    "raw[\"hours_worked\"] = raw[\"Total hrs\"].apply(parse_hours)"
   ]
  },
  {
   "cell_type": "code",
   "execution_count": null,
   "id": "d1ee005d",
   "metadata": {},
   "outputs": [],
   "source": [
    "# Rename & filter\n",
    "df = (\n",
    "    raw\n",
    "    .rename(columns={\n",
    "        \"Name\": \"employee_name\",\n",
    "    })\n",
    "    .loc[lambda d: d[\"hours_worked\"] > 0] # drop <= 0\n",
    "    .dropna(subset=[\"hours_worked\"]) # drop NA hours\n",
    ")"
   ]
  },
  {
   "cell_type": "code",
   "execution_count": null,
   "id": "b7bb822e",
   "metadata": {},
   "outputs": [],
   "source": [
    "# Checking my work\n",
    "print(df[\"hours_worked\"].describe())\n",
    "print(df.isna().sum().sort_values(ascending=False).head(10))"
   ]
  },
  {
   "cell_type": "code",
   "execution_count": null,
   "id": "6e92f63b",
   "metadata": {},
   "outputs": [],
   "source": [
    "# Save to Parquet\n",
    "df.to_parquet(\"../data/timesheet_clean.parquet\", index=False)"
   ]
  }
 ],
 "metadata": {
  "kernelspec": {
   "display_name": "Python 3",
   "language": "python",
   "name": "python3"
  },
  "language_info": {
   "codemirror_mode": {
    "name": "ipython",
    "version": 3
   },
   "file_extension": ".py",
   "mimetype": "text/x-python",
   "name": "python",
   "nbconvert_exporter": "python",
   "pygments_lexer": "ipython3",
   "version": "3.13.3"
  }
 },
 "nbformat": 4,
 "nbformat_minor": 5
}
