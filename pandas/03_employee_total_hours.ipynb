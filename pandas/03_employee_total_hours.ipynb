{
 "cells": [
  {
   "cell_type": "code",
   "execution_count": 2,
   "id": "ccf237d3",
   "metadata": {},
   "outputs": [],
   "source": [
    "import pandas as pd"
   ]
  },
  {
   "cell_type": "code",
   "execution_count": 3,
   "id": "1acaa588",
   "metadata": {},
   "outputs": [],
   "source": [
    "df = pd.read_parquet(\"../data/timesheet_clean.parquet\") # Load the data\n",
    "\n",
    "employee_hours = (\n",
    "    df.groupby(\"employee_name\", as_index=False) # Grouping by name\n",
    "    .agg(total_hours=(\"hours_worked\", \"sum\")) # Aggregating total hours by summing them\n",
    "    .sort_values(\"total_hours\", ascending=False) # Sorting values\n",
    ")"
   ]
  },
  {
   "cell_type": "code",
   "execution_count": null,
   "id": "5279400d",
   "metadata": {},
   "outputs": [
    {
     "data": {
      "text/html": [
       "<div>\n",
       "<style scoped>\n",
       "    .dataframe tbody tr th:only-of-type {\n",
       "        vertical-align: middle;\n",
       "    }\n",
       "\n",
       "    .dataframe tbody tr th {\n",
       "        vertical-align: top;\n",
       "    }\n",
       "\n",
       "    .dataframe thead th {\n",
       "        text-align: right;\n",
       "    }\n",
       "</style>\n",
       "<table border=\"1\" class=\"dataframe\">\n",
       "  <thead>\n",
       "    <tr style=\"text-align: right;\">\n",
       "      <th></th>\n",
       "      <th>employee_name</th>\n",
       "      <th>total_hours</th>\n",
       "      <th>pct_total</th>\n",
       "    </tr>\n",
       "  </thead>\n",
       "  <tbody>\n",
       "    <tr>\n",
       "      <th>0</th>\n",
       "      <td>Akash Chandrakar</td>\n",
       "      <td>213.966667</td>\n",
       "      <td>0.267815</td>\n",
       "    </tr>\n",
       "    <tr>\n",
       "      <th>3</th>\n",
       "      <td>Shiva Manhar</td>\n",
       "      <td>191.866667</td>\n",
       "      <td>0.240154</td>\n",
       "    </tr>\n",
       "    <tr>\n",
       "      <th>1</th>\n",
       "      <td>Akash Sharma</td>\n",
       "      <td>179.200000</td>\n",
       "      <td>0.224299</td>\n",
       "    </tr>\n",
       "    <tr>\n",
       "      <th>4</th>\n",
       "      <td>Vipplove Vishwakarma</td>\n",
       "      <td>170.566667</td>\n",
       "      <td>0.213493</td>\n",
       "    </tr>\n",
       "    <tr>\n",
       "      <th>2</th>\n",
       "      <td>Kulbhushan Ugemuge</td>\n",
       "      <td>43.333333</td>\n",
       "      <td>0.054239</td>\n",
       "    </tr>\n",
       "  </tbody>\n",
       "</table>\n",
       "</div>"
      ],
      "text/plain": [
       "          employee_name  total_hours  pct_total\n",
       "0      Akash Chandrakar   213.966667   0.267815\n",
       "3          Shiva Manhar   191.866667   0.240154\n",
       "1          Akash Sharma   179.200000   0.224299\n",
       "4  Vipplove Vishwakarma   170.566667   0.213493\n",
       "2    Kulbhushan Ugemuge    43.333333   0.054239"
      ]
     },
     "execution_count": 4,
     "metadata": {},
     "output_type": "execute_result"
    }
   ],
   "source": [
    "# Percent Column Addition\n",
    "grand_total = employee_hours[\"total_hours\"].sum() # Summing total_hours\n",
    "employee_hours[\"pct_total\"] = employee_hours[\"total_hours\"] / grand_total # Creating percent column\n",
    "\n",
    "employee_hours.head() # Printing first 5 rows"
   ]
  }
 ],
 "metadata": {
  "kernelspec": {
   "display_name": "Python 3",
   "language": "python",
   "name": "python3"
  },
  "language_info": {
   "codemirror_mode": {
    "name": "ipython",
    "version": 3
   },
   "file_extension": ".py",
   "mimetype": "text/x-python",
   "name": "python",
   "nbconvert_exporter": "python",
   "pygments_lexer": "ipython3",
   "version": "3.13.3"
  }
 },
 "nbformat": 4,
 "nbformat_minor": 5
}
