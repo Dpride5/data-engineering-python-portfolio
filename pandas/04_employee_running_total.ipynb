{
 "cells": [
  {
   "cell_type": "code",
   "execution_count": null,
   "id": "c31533bd",
   "metadata": {},
   "outputs": [],
   "source": [
    "import pandas as pd\n",
    "\n",
    "df = pd.read_parquet(\"../data/timesheet_clean.parquet\") # Loading the data\n"
   ]
  },
  {
   "cell_type": "code",
   "execution_count": null,
   "id": "f17e9973",
   "metadata": {},
   "outputs": [],
   "source": [
    "df = df.sort_values([\"employee_name\", \"Date\"])  # Sorting values by employee name and Date\n",
    "\n",
    "df[\"cumulative_hours\"] = (                      # Creating a new column\n",
    "    df.groupby(\"employee_name\")[\"hours_worked\"] # Grouping by employee_name on hours_worked\n",
    "    .cumsum()                                   # Cumulative sum function\n",
    ")\n",
    "\n",
    "df.head(10)"
   ]
  },
  {
   "cell_type": "code",
   "execution_count": null,
   "id": "fc769090",
   "metadata": {},
   "outputs": [],
   "source": [
    "df.query(\"employee_name == 'Shiva Manhar'\").head(5)"
   ]
  },
  {
   "cell_type": "code",
   "execution_count": null,
   "id": "d3103dea",
   "metadata": {},
   "outputs": [],
   "source": [
    "df.to_parquet(\"../data/timesheet_running.parquet\", index=False)"
   ]
  }
 ],
 "metadata": {
  "kernelspec": {
   "display_name": "Python 3",
   "language": "python",
   "name": "python3"
  },
  "language_info": {
   "codemirror_mode": {
    "name": "ipython",
    "version": 3
   },
   "file_extension": ".py",
   "mimetype": "text/x-python",
   "name": "python",
   "nbconvert_exporter": "python",
   "pygments_lexer": "ipython3",
   "version": "3.13.3"
  }
 },
 "nbformat": 4,
 "nbformat_minor": 5
}
